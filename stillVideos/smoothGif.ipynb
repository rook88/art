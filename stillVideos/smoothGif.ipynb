{
 "cells": [
  {
   "cell_type": "code",
   "execution_count": null,
   "metadata": {},
   "outputs": [],
   "source": [
    "import subprocess\n",
    "import stillvideos as sv\n",
    "import importlib\n",
    "importlib.reload(sv)\n",
    "import numpy as np\n",
    "import scipy\n",
    "from skimage.color import rgb2hsv\n",
    "from skimage.color import hsv2rgb\n",
    "import sys\n",
    "# C:\\Users\\jokemjaa\\Documents\\GitHub\\jupyter\\jedit\n",
    "sys.path.append(\"C:\\\\users\\\\jokemjaa\\\\Documents\\\\github\\\\\")\n",
    "import jupyter_cell_magics.jedit as jedit\n",
    "\n",
    "# sv.iterMovie()\n",
    "# sv.inputMovies()\n",
    "# sv.sdCardMovies()\n",
    "# sv.copyFromSdCard()\n",
    "# sv.newSdCardMovies()"
   ]
  },
  {
   "cell_type": "markdown",
   "metadata": {},
   "source": [
    "## Puretaan framet\n",
    "\n",
    "Tuodaan tuoreimman käsittelemättömän videon freimit input kansioon"
   ]
  },
  {
   "cell_type": "code",
   "execution_count": null,
   "metadata": {},
   "outputs": [],
   "source": [
    "!dir c:\\work\\input\\*.MP4\n",
    "# !dir c:\\data\\raw\\*.MP4"
   ]
  },
  {
   "cell_type": "code",
   "execution_count": null,
   "metadata": {},
   "outputs": [],
   "source": [
    "# inputVideo = sv.iterMovie(filetype = \"MOV\")\n",
    "# inputVideo\n",
    "inputVideo = 'MVI_0488.MP4'\n",
    "sv.extractFrames(inputVideo)\n",
    "\n",
    "pageName = inputVideo.split(\".\")[0]"
   ]
  },
  {
   "cell_type": "code",
   "execution_count": null,
   "metadata": {},
   "outputs": [],
   "source": [
    "sv.generateThumbnails(pageName, skip = 50)"
   ]
  },
  {
   "cell_type": "code",
   "execution_count": null,
   "metadata": {},
   "outputs": [],
   "source": [
    "# sv.openHtmlPage()"
   ]
  },
  {
   "cell_type": "code",
   "execution_count": null,
   "metadata": {},
   "outputs": [],
   "source": [
    "test = [i for i in range(960)]\n",
    "offset = 0\n",
    "fuuga1 = [offset + i * framesPerInterval for i in range(copyCount)]\n",
    "offset = 119\n",
    "fuuga2 = [offset + i * framesPerInterval for i in range(copyCount)]\n",
    "fuuga1, fuuga2"
   ]
  },
  {
   "cell_type": "code",
   "execution_count": null,
   "metadata": {},
   "outputs": [],
   "source": [
    "copyCount = 2\n",
    "start = 50\n",
    "end = 250\n",
    "\n",
    "choice = range(start, end, 1)\n",
    "outputFrameCount = int(len(choice) / copyCount)\n",
    "\n",
    "print(f\"\"\"\n",
    "choice              = {choice}\n",
    "copyCount           = {copyCount}\n",
    "outputFrameCount    = {outputFrameCount}\n",
    "\"\"\")\n"
   ]
  },
  {
   "cell_type": "code",
   "execution_count": null,
   "metadata": {},
   "outputs": [],
   "source": [
    "importlib.reload(sv)\n",
    "\n",
    "sv.clearOutputFolder()\n",
    "transpose = False\n",
    "resize = False\n",
    "\n",
    "for offset in range(outputFrameCount):\n",
    "    imFile = f\"c:/work/output/frame{offset:04d}.png\"\n",
    "    imIn = sv.readTempFolderImages([start + offset])[0][0]\n",
    "    weights = [np.sin((i + 1.0 * offset / outputFrameCount) * np.pi /copyCount ) ** 2 for i in range(copyCount)]\n",
    "    print(offset, weights)\n",
    "    im = sv.avgCopies(choice, copyCount, offset, np.average, weights = weights)\n",
    "    if transpose:\n",
    "        im = im.transpose(Image.ROTATE_270)\n",
    "    if resize: \n",
    "        im = im.resize((960, 540))\n",
    "    im.save(imFile)\n",
    "    "
   ]
  },
  {
   "cell_type": "code",
   "execution_count": null,
   "metadata": {
    "scrolled": true
   },
   "outputs": [],
   "source": [
    "importlib.reload(sv)\n",
    "outputMovieName = 'teo_4.mp4'\n",
    "sv.concatFrames(outputMovieName)"
   ]
  },
  {
   "cell_type": "code",
   "execution_count": null,
   "metadata": {},
   "outputs": [],
   "source": [
    "jedit.setGlobals(name = outputMovieName)"
   ]
  },
  {
   "cell_type": "code",
   "execution_count": null,
   "metadata": {},
   "outputs": [],
   "source": [
    "%%jedit -w video_fullscreen.html -o temp.html\n",
    "{% include 'video_player.css' %}\n",
    "<video autoplay muted loop id=\"myVideo\">\n",
    "  <source src=\"c:/work/output/{{ outputMovieName }}\" type=\"video/mp4\">\n",
    "  Your browser does not support HTML5 video.\n",
    "</video>\n"
   ]
  },
  {
   "cell_type": "code",
   "execution_count": null,
   "metadata": {},
   "outputs": [],
   "source": [
    "!copy c:\\work\\output\\{outputMovieName} \"C:\\Users\\jokemjaa\\OneDrive - Tieto Corporation\\temp\""
   ]
  },
  {
   "cell_type": "code",
   "execution_count": null,
   "metadata": {},
   "outputs": [],
   "source": [
    "!dir c:\\work\\output\\"
   ]
  },
  {
   "cell_type": "code",
   "execution_count": null,
   "metadata": {},
   "outputs": [],
   "source": [
    "!c:\\work\\output\\{outputMovieName}"
   ]
  },
  {
   "cell_type": "code",
   "execution_count": 1,
   "metadata": {},
   "outputs": [
    {
     "name": "stdout",
     "output_type": "stream",
     "text": [
      " Volume in drive G is OSDisk\n",
      " Volume Serial Number is 0802-D245\n",
      "\n",
      " Directory of g:\\omat\n",
      "\n",
      "19.04.2020  11.48           731ÿ593 teo_1.mp4\n",
      "               1 File(s)        731ÿ593 bytes\n",
      "               0 Dir(s)  227ÿ578ÿ855ÿ424 bytes free\n"
     ]
    }
   ],
   "source": [
    "!dir g:\\omat\\teo*"
   ]
  },
  {
   "cell_type": "code",
   "execution_count": 6,
   "metadata": {},
   "outputs": [
    {
     "name": "stderr",
     "output_type": "stream",
     "text": [
      "ffmpeg version N-94167-ga514244319 Copyright (c) 2000-2019 the FFmpeg developers\n",
      "  built with gcc 9.1.1 (GCC) 20190621\n",
      "  configuration: --enable-gpl --enable-version3 --enable-sdl2 --enable-fontconfig --enable-gnutls --enable-iconv --enable-libass --enable-libdav1d --enable-libbluray --enable-libfreetype --enable-libmp3lame --enable-libopencore-amrnb --enable-libopencore-amrwb --enable-libopenjpeg --enable-libopus --enable-libshine --enable-libsnappy --enable-libsoxr --enable-libtheora --enable-libtwolame --enable-libvpx --enable-libwavpack --enable-libwebp --enable-libx264 --enable-libx265 --enable-libxml2 --enable-libzimg --enable-lzma --enable-zlib --enable-gmp --enable-libvidstab --enable-libvorbis --enable-libvo-amrwbenc --enable-libmysofa --enable-libspeex --enable-libxvid --enable-libaom --enable-libmfx --enable-amf --enable-ffnvcodec --enable-cuvid --enable-d3d11va --enable-nvenc --enable-nvdec --enable-dxva2 --enable-avisynth --enable-libopenmpt\n",
      "  libavutil      56. 30.100 / 56. 30.100\n",
      "  libavcodec     58. 53.101 / 58. 53.101\n",
      "  libavformat    58. 28.101 / 58. 28.101\n",
      "  libavdevice    58.  7.100 / 58.  7.100\n",
      "  libavfilter     7. 56.100 /  7. 56.100\n",
      "  libswscale      5.  4.101 /  5.  4.101\n",
      "  libswresample   3.  4.100 /  3.  4.100\n",
      "  libpostproc    55.  4.100 / 55.  4.100\n",
      "Input #0, mov,mp4,m4a,3gp,3g2,mj2, from 'g:\\omat\\teo_1.mp4':\n",
      "  Metadata:\n",
      "    major_brand     : isom\n",
      "    minor_version   : 512\n",
      "    compatible_brands: isomiso2avc1mp41\n",
      "    encoder         : Lavf58.28.101\n",
      "  Duration: 00:00:04.00, start: 0.000000, bitrate: 1463 kb/s\n",
      "    Stream #0:0(und): Video: h264 (High 4:4:4 Predictive) (avc1 / 0x31637661), yuv444p, 960x540, 1459 kb/s, 25 fps, 25 tbr, 12800 tbn, 50 tbc (default)\n",
      "    Metadata:\n",
      "      handler_name    : VideoHandler\n",
      "Stream mapping:\n",
      "  Stream #0:0 -> #0:0 (h264 (native) -> gif (native))\n",
      "Press [q] to stop, [?] for help\n",
      "Output #0, gif, to 'g:\\omat\\teo_1.gif':\n",
      "  Metadata:\n",
      "    major_brand     : isom\n",
      "    minor_version   : 512\n",
      "    compatible_brands: isomiso2avc1mp41\n",
      "    encoder         : Lavf58.28.101\n",
      "    Stream #0:0(und): Video: gif, bgr8, 960x540, q=2-31, 200 kb/s, 25 fps, 100 tbn, 25 tbc (default)\n",
      "    Metadata:\n",
      "      handler_name    : VideoHandler\n",
      "      encoder         : Lavc58.53.101 gif\n",
      "frame=   14 fps=0.0 q=-0.0 size=    2560kB time=00:00:00.53 bitrate=39568.9kbits/s speed=1.04x    \n",
      "frame=   28 fps= 28 q=-0.0 size=    5632kB time=00:00:01.09 bitrate=42327.8kbits/s speed=1.08x    \n",
      "frame=   43 fps= 28 q=-0.0 size=    8704kB time=00:00:01.69 bitrate=42191.2kbits/s speed= 1.1x    \n",
      "frame=   57 fps= 28 q=-0.0 size=   11776kB time=00:00:02.25 bitrate=42875.1kbits/s speed=1.09x    \n",
      "frame=   69 fps= 27 q=-0.0 size=   14336kB time=00:00:02.73 bitrate=43018.5kbits/s speed=1.07x    \n",
      "frame=   82 fps= 27 q=-0.0 size=   17152kB time=00:00:03.25 bitrate=43233.6kbits/s speed=1.06x    \n",
      "frame=   96 fps= 27 q=-0.0 size=   20224kB time=00:00:03.81 bitrate=43484.3kbits/s speed=1.06x    \n",
      "frame=  100 fps= 26 q=-0.0 Lsize=   21318kB time=00:00:03.97 bitrate=43990.2kbits/s speed=1.05x    \n",
      "video:21318kB audio:0kB subtitle:0kB other streams:0kB global headers:0kB muxing overhead: 0.000092%\n"
     ]
    }
   ],
   "source": [
    "!C:\\Users\\jokemjaa\\Downloads\\ffmpeg\\ffmpeg\\bin\\ffmpeg -i g:\\omat\\teo_1.mp4 g:\\omat\\teo_1.gif"
   ]
  }
 ],
 "metadata": {
  "kernelspec": {
   "display_name": "Python 3",
   "language": "python",
   "name": "python3"
  },
  "language_info": {
   "codemirror_mode": {
    "name": "ipython",
    "version": 3
   },
   "file_extension": ".py",
   "mimetype": "text/x-python",
   "name": "python",
   "nbconvert_exporter": "python",
   "pygments_lexer": "ipython3",
   "version": "3.7.7"
  },
  "latex_envs": {
   "LaTeX_envs_menu_present": true,
   "autoclose": false,
   "autocomplete": true,
   "bibliofile": "biblio.bib",
   "cite_by": "apalike",
   "current_citInitial": 1,
   "eqLabelWithNumbers": true,
   "eqNumInitial": 1,
   "hotkeys": {
    "equation": "Ctrl-E",
    "itemize": "Ctrl-I"
   },
   "labels_anchors": false,
   "latex_user_defs": false,
   "report_style_numbering": false,
   "user_envs_cfg": false
  }
 },
 "nbformat": 4,
 "nbformat_minor": 2
}
