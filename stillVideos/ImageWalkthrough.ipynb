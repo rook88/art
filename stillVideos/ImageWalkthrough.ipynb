{
 "cells": [
  {
   "cell_type": "markdown",
   "metadata": {},
   "source": [
    "# Image walkthrough\n",
    "\n",
    "Tools used:\n",
    "\n",
    "- ffmpeg\n",
    "- Python (PIL, Numpy)"
   ]
  },
  {
   "cell_type": "markdown",
   "metadata": {},
   "source": [
    "## Camera\n",
    "\n"
   ]
  },
  {
   "cell_type": "code",
   "execution_count": null,
   "metadata": {},
   "outputs": [],
   "source": [
    "!dir \"WL357718\\Canon DIGITAL IXUS 70\\\""
   ]
  },
  {
   "cell_type": "code",
   "execution_count": null,
   "metadata": {},
   "outputs": [],
   "source": [
    "!dir D:\\DCIM\\100___11\\*.mp4"
   ]
  },
  {
   "cell_type": "markdown",
   "metadata": {},
   "source": [
    "## ffmpgeg\n",
    "\n",
    "With ffmpeg one can convert different picture or video formats.\n",
    "\n",
    "- Extract frames from video https://trac.ffmpeg.org/wiki/Create%20a%20thumbnail%20image%20every%20X%20seconds%20of%20the%20video\n",
    "- Concat frames to video https://trac.ffmpeg.org/wiki/Slideshow\n",
    "\n",
    "`\"c:\\Users\\jokemjaa\\Downloads\\ffmpeg-20190705-a514244-win64-static\\ffmpeg-20190705-a514244-win64-static\\bin\\ffmpeg\" -i frame%04d.png out.mp4`"
   ]
  },
  {
   "cell_type": "markdown",
   "metadata": {},
   "source": [
    "## Numpy\n",
    "\n",
    "Numpy tarjoaa hyviä funktioita, joilla voi aggregoida. https://docs.scipy.org/doc/numpy/reference/routines.statistics.html\n",
    "\n",
    "- median\n",
    "- max\n",
    "- min \n",
    "- percentile\n",
    "- quantile\n",
    "- mean\n",
    "- average\n",
    "\n"
   ]
  },
  {
   "cell_type": "markdown",
   "metadata": {},
   "source": [
    "## Filesystem\n",
    "\n",
    "- 'input' has videos\n",
    "- 'temp' has temporary files\n",
    "- 'output' has output images"
   ]
  },
  {
   "cell_type": "code",
   "execution_count": null,
   "metadata": {},
   "outputs": [],
   "source": [
    "!dir c:\\work\\input\\*.MP4"
   ]
  },
  {
   "cell_type": "markdown",
   "metadata": {},
   "source": [
    "## Dev"
   ]
  },
  {
   "cell_type": "code",
   "execution_count": null,
   "metadata": {},
   "outputs": [],
   "source": [
    "import subprocess\n",
    "import stillvideos as sv\n",
    "import importlib\n",
    "importlib.reload(sv)\n",
    "import numpy as np\n",
    "import scipy\n",
    "from skimage.color import rgb2hsv\n",
    "from skimage.color import hsv2rgb\n",
    "\n",
    "# sv.iterMovie()\n",
    "# sv.inputMovies()\n",
    "# sv.sdCardMovies()\n",
    "# sv.copyFromSdCard()\n",
    "# sv.newSdCardMovies()"
   ]
  },
  {
   "cell_type": "markdown",
   "metadata": {},
   "source": [
    "Tuodaan tuoreimman käsittelemättömän videon freimit input kansioon"
   ]
  },
  {
   "cell_type": "code",
   "execution_count": null,
   "metadata": {},
   "outputs": [],
   "source": [
    "# inputVideo = sv.iterMovie(filetype = \"MOV\")\n",
    "# inputVideo\n",
    "inputVideo = 'MVI_0212.MP4'\n",
    "sv.extractFrames(inputVideo)\n",
    "\n",
    "pageName = inputVideo.split(\".\")[0]"
   ]
  },
  {
   "cell_type": "code",
   "execution_count": null,
   "metadata": {},
   "outputs": [],
   "source": [
    "transpose = False\n",
    "# sv.generateThumbnails(pageName, range(0, 99999, 30), factor = 0.5, transpose = transpose)"
   ]
  },
  {
   "cell_type": "code",
   "execution_count": null,
   "metadata": {},
   "outputs": [],
   "source": [
    "sv.generateThumbnails(pageName, skip = 50)"
   ]
  },
  {
   "cell_type": "code",
   "execution_count": null,
   "metadata": {},
   "outputs": [],
   "source": [
    "sv.openHtmlPage()"
   ]
  },
  {
   "cell_type": "code",
   "execution_count": null,
   "metadata": {},
   "outputs": [],
   "source": [
    "beatsPerInterval = 8\n",
    "beatsPerMinute = 60.0\n",
    "beatsPerSecond = beatsPerMinute / 60.0\n",
    "framesPerBeat = 30 / beatsPerSecond\n",
    "framesPerInterval = framesPerBeat * beatsPerInterval\n",
    "framesPerInterval"
   ]
  },
  {
   "cell_type": "code",
   "execution_count": null,
   "metadata": {},
   "outputs": [],
   "source": [
    "framesPerInterval = 50\n",
    "start = 180\n",
    "copyCount = 3\n",
    "end = framesPerInterval * copyCount + start\n",
    "\n",
    "choice = range(start, int(end), 1)"
   ]
  },
  {
   "cell_type": "code",
   "execution_count": null,
   "metadata": {},
   "outputs": [],
   "source": [
    "importlib.reload(sv)\n",
    "imMedian = sv.tempMedian(choice)\n",
    "imMedian"
   ]
  },
  {
   "cell_type": "code",
   "execution_count": null,
   "metadata": {},
   "outputs": [],
   "source": []
  },
  {
   "cell_type": "code",
   "execution_count": null,
   "metadata": {},
   "outputs": [],
   "source": [
    "# weights = [i for i in range(1,11)] + [i for i in reversed(range(1,11))]\n",
    "weights = [np.sin((0.5 + i) * np.pi / 10 ) ** 2 for i in range(10)]\n",
    "weights"
   ]
  },
  {
   "cell_type": "code",
   "execution_count": null,
   "metadata": {
    "scrolled": true
   },
   "outputs": [],
   "source": [
    "importlib.reload(sv)\n",
    "import numpy as np\n",
    "# choice = range(390, 1710, 1)\n",
    "offset = 0\n",
    "atol = 0.1\n",
    "# copyCount = 10\n",
    "im = sv.sumCopies(choice, imMedian, copyCount, offset, atol, 0)\n",
    "# im = sv.avgCopies(choice, imMedian, copyCount, offset, np.quantile, q = 0.9)\n",
    "# im = sv.avgCopies(choice, imMedian, copyCount, offset, np.average, weights = weights)\n",
    "im"
   ]
  },
  {
   "cell_type": "code",
   "execution_count": null,
   "metadata": {},
   "outputs": [],
   "source": [
    "im = sv.readTempFolderImages([100])[0][0]\n",
    "\n",
    "importlib.reload(sv)\n",
    "sv.g.verbose = False\n",
    "# imc = sv.getMaskImg(imMedian, im, im2, 0.0, 0.4)\n",
    "im"
   ]
  },
  {
   "cell_type": "code",
   "execution_count": null,
   "metadata": {},
   "outputs": [],
   "source": [
    "np.mean(np.array(im), axis = 0)"
   ]
  },
  {
   "cell_type": "code",
   "execution_count": null,
   "metadata": {},
   "outputs": [],
   "source": [
    "np.apply_over_axes(np.mean, np.array(im), [0,1])\n"
   ]
  },
  {
   "cell_type": "code",
   "execution_count": null,
   "metadata": {},
   "outputs": [],
   "source": [
    "np.apply_over_axes(np.percentile, np.array(im), )\n"
   ]
  },
  {
   "cell_type": "code",
   "execution_count": null,
   "metadata": {},
   "outputs": [],
   "source": [
    "np.percentile(np.array(im), q = 10, axis = [0, 1])"
   ]
  },
  {
   "cell_type": "code",
   "execution_count": null,
   "metadata": {},
   "outputs": [],
   "source": [
    "\n",
    "hue_img = rgb2hsv(im)"
   ]
  },
  {
   "cell_type": "code",
   "execution_count": null,
   "metadata": {},
   "outputs": [],
   "source": [
    "def asImg(nparray):\n",
    "#     print(nparray)\n",
    "#     display(Image.fromarray(nparray))\n",
    "    return Image.fromarray(nparray)"
   ]
  },
  {
   "cell_type": "code",
   "execution_count": null,
   "metadata": {},
   "outputs": [],
   "source": [
    "im = sv.readTempFolderImages([250])[0][0]\n",
    "\n",
    "def myTrans(im, hue_offset = 0.5):\n",
    "    im_ret = Image.new(im.mode, im.size, (0, 0, 0))\n",
    "    im2 = Image.new(im.mode, im.size, (255, 255, 255))\n",
    "    imc = sv.getMaskImg(imMedian, im, im2, 0.0, 0.2)\n",
    "    imv = scipy.ndimage.binary_opening(np.array(imc)[:,:,2])\n",
    "    imv = scipy.ndimage.binary_closing(imv)\n",
    "#     Image.fromarray(imv.astype(np.uint8) * 255)\n",
    "    imn = np.array(im) \n",
    "    # imn[:,:,0][imn[:,:,0] < 100] = 100\n",
    "    im_hue = rgb2hsv(imn)\n",
    "    im_hue[:,:,0][imv > 0] = im_hue[:,:,0][imv > 0] + hue_offset\n",
    "    # im_hue[:,:,1][im_hue[:,:,1] < 0.01] = 0.01\n",
    "    # im_hue[:,:,2][im_hue[:,:,2] > 0.8] = 0.8\n",
    "    im_ret = (hsv2rgb(im_hue) * 255).astype(np.uint8)\n",
    "    return(asImg(im_ret))\n",
    "\n",
    "myTrans(im, 0.2)"
   ]
  },
  {
   "cell_type": "code",
   "execution_count": null,
   "metadata": {},
   "outputs": [],
   "source": [
    "from skimage.filters import gaussian\n",
    "from PIL import Image\n",
    "from skimage.morphology import erosion, dilation, opening, closing, white_tophat\n",
    "from skimage.morphology import black_tophat, skeletonize, convex_hull_image\n",
    "from skimage.morphology import disk\n",
    "im = sv.readTempFolderImages([250])[0][0]\n",
    "from skimage.morphology import square\n",
    "\n",
    "def myDif(im1, im2, atol, rtol, sigma):\n",
    "#     np_im1 = gaussian(np.asarray(im1), sigma)\n",
    "#     np_im2 = gaussian(np.asarray(im2), sigma)\n",
    "    np_im1 = np.asarray(im1)\n",
    "    np_im2 = np.asarray(im2)\n",
    "    np_dif_1 = np.isclose(np_im1[:,:,0], np_im2[:,:,0], atol = atol, rtol = rtol)\n",
    "    np_dif_2 = np.isclose(np_im1[:,:,1], np_im2[:,:,1], atol = atol, rtol = rtol)\n",
    "    np_dif_3 = np.isclose(np_im1[:,:,2], np_im2[:,:,2], atol = atol, rtol = rtol)\n",
    "    #     print(np_dif)\n",
    "#     print(np_im1.shape)\n",
    "    np_dif = np.logical_and(np_dif_1, np_dif_2, np_dif_3)\n",
    "#     np_dif = closing(np_dif, square(6))\n",
    "#     im2 = Image.new(im.mode, im.size, (255, 255, 255))\n",
    "#     imr = sv.getMaskImg(imMedian, im, im2, 0.0, 0.2)\n",
    "#     return imr\n",
    "#     np_dif = scipy.ndimage.binary_opening(np.array(np_dif))\n",
    "#     np_dif = scipy.ndimage.binary_closing(np.array(np_dif))\n",
    "#     return(asImg(imr.astype(np.uint8) * 255))\n",
    "    np_ret = np_dif.astype(np.uint8) * 255\n",
    "    return asImg(np_ret)\n",
    "\n",
    "imCur = myDif(im, imMedian, 0.0, 0.06, 1)"
   ]
  },
  {
   "cell_type": "code",
   "execution_count": null,
   "metadata": {},
   "outputs": [],
   "source": [
    "no1, no2 = 250, 251\n",
    "\n",
    "temps = range(240,260,2)\n",
    "ret = None\n",
    "for i in temps:\n",
    "    print(i)\n",
    "    im1 = sv.readTempFolderImages([i])[0][0]\n",
    "    im2 = imMedian\n",
    "    if ret is None:\n",
    "        ret = np.array(myDif(im1, im2, 0.0, 0.02, 3))\n",
    "    else:\n",
    "        ret = np.append(ret, np.array(myDif(im1, im2, 0.0, 0.04, 1))) "
   ]
  },
  {
   "cell_type": "code",
   "execution_count": null,
   "metadata": {},
   "outputs": [],
   "source": [
    "ret.shape"
   ]
  },
  {
   "cell_type": "code",
   "execution_count": null,
   "metadata": {
    "scrolled": true
   },
   "outputs": [],
   "source": [
    "ret = ret.reshape(10, 720, 1280)\n",
    "myav = np.mean(ret, axis = 0)\n",
    "myav.shape\n",
    "asImg(myav.astype(np.uint8))\n",
    "# np.mean(myav)"
   ]
  },
  {
   "cell_type": "code",
   "execution_count": null,
   "metadata": {},
   "outputs": [],
   "source": [
    "asImg(opening((255 - np.array(imCur)).astype(np.uint8)))"
   ]
  },
  {
   "cell_type": "code",
   "execution_count": null,
   "metadata": {},
   "outputs": [],
   "source": [
    "npCur = 255 - np.array(imCur)\n",
    "npCur[myav < 90] = 0\n",
    "asImg(npCur)"
   ]
  },
  {
   "cell_type": "code",
   "execution_count": null,
   "metadata": {},
   "outputs": [],
   "source": [
    "np.mean(np.array(imCur))\n",
    "np.mean(myav)"
   ]
  },
  {
   "cell_type": "code",
   "execution_count": null,
   "metadata": {},
   "outputs": [],
   "source": [
    "myDif(im, imMedian, 0.0, 0.02, 2)"
   ]
  },
  {
   "cell_type": "code",
   "execution_count": null,
   "metadata": {},
   "outputs": [],
   "source": [
    "from PIL import Image\n",
    "im = Image.open('G:\\jokemjaaPublic\\misc\\mikki.jpg')"
   ]
  },
  {
   "cell_type": "code",
   "execution_count": null,
   "metadata": {},
   "outputs": [],
   "source": [
    "im.size, im.format"
   ]
  },
  {
   "cell_type": "code",
   "execution_count": null,
   "metadata": {},
   "outputs": [],
   "source": [
    "im2 = im.resize((200, 355))"
   ]
  },
  {
   "cell_type": "code",
   "execution_count": null,
   "metadata": {},
   "outputs": [],
   "source": [
    "im2.size"
   ]
  },
  {
   "cell_type": "code",
   "execution_count": null,
   "metadata": {},
   "outputs": [],
   "source": [
    "sum(np.array(imc))"
   ]
  },
  {
   "cell_type": "code",
   "execution_count": null,
   "metadata": {},
   "outputs": [],
   "source": [
    "nyBlur = ImageFilter.BoxBlur(2)\n",
    "imb = imc.filter(nyBlur)\n",
    "threshold = 200  \n",
    "imc = imb.point(lambda p: p > threshold and 255) \n",
    "imc"
   ]
  },
  {
   "cell_type": "code",
   "execution_count": null,
   "metadata": {},
   "outputs": [],
   "source": [
    "import matplotlib.pyplot as plt\n",
    "fig, (ax0, ax1) = plt.subplots(ncols=2, figsize=(14, 5))\n",
    "\n",
    "ax0.imshow(im)\n",
    "ax0.set_title(\"RGB image\")\n",
    "ax0.axis('off')\n",
    "ax1.imshow(hue_img, cmap='hsv')\n",
    "ax1.set_title(\"Hue channel\")\n",
    "ax1.axis('off')\n",
    "\n",
    "fig.tight_layout()\n",
    "plt.show()"
   ]
  },
  {
   "cell_type": "code",
   "execution_count": null,
   "metadata": {},
   "outputs": [],
   "source": []
  },
  {
   "cell_type": "code",
   "execution_count": null,
   "metadata": {},
   "outputs": [],
   "source": [
    "sv.getMask(imMedian, im, 0)"
   ]
  },
  {
   "cell_type": "code",
   "execution_count": null,
   "metadata": {},
   "outputs": [],
   "source": [
    "offset = 0\n",
    "weights1 = [np.sin((i - 1.0 * offset / outputFrameCount) * np.pi / copyCount ) ** 2 for i in range(copyCount)]\n",
    "offset = 119\n",
    "weights2 = [np.sin((i + 1.0 * offset / outputFrameCount) * np.pi / copyCount ) ** 2 for i in range(copyCount)]\n",
    "\n",
    "print(weights1, weights2)\n",
    "# im = sv.avgCopi§es(choice, imMedian, copyCount, offset, np.average, weights = weights)\n",
    "# im "
   ]
  },
  {
   "cell_type": "code",
   "execution_count": null,
   "metadata": {},
   "outputs": [],
   "source": [
    "test = [i for i in range(960)]\n",
    "offset = 0\n",
    "fuuga1 = [offset + i * framesPerInterval for i in range(copyCount)]\n",
    "offset = 119\n",
    "fuuga2 = [offset + i * framesPerInterval for i in range(copyCount)]\n",
    "fuuga1, fuuga2"
   ]
  },
  {
   "cell_type": "code",
   "execution_count": null,
   "metadata": {},
   "outputs": [],
   "source": [
    "copyCount = 2\n",
    "choice = range(100, 280)\n",
    "framesPerInterval = 1\n",
    "print(f\"\"\"\n",
    "choice              = {choice}\n",
    "framesPerInterval   = {framesPerInterval}\n",
    "copyCount           = {copyCount}\n",
    "\n",
    "\"\"\")\n",
    "outputFrameCount = int(framesPerInterval)\n"
   ]
  },
  {
   "cell_type": "code",
   "execution_count": null,
   "metadata": {},
   "outputs": [],
   "source": [
    "\n",
    "import numpy as np\n",
    "importlib.reload(sv)\n",
    "\n",
    "sv.clearOutputFolder()\n",
    "transpose = False\n",
    "atol = 0\n",
    "rtol = 0.1\n",
    "\n",
    "outputFrameCount = 90\n",
    "start = 100\n",
    "\n",
    "for offset in range(outputFrameCount):\n",
    "    imFile = f\"c:/work/output/frame{offset:04d}.png\"\n",
    "    print(imFile)\n",
    "    imIn = sv.readTempFolderImages([start + offset])[0][0]\n",
    "#     im = myTrans(imIn, offset / outputFrameCount * 5.0)\n",
    "#     im = sv.sumCopies(choice, imMedian, copyCount, offset, atol, rtol)\n",
    "#    im = sv.avgCopies(choice, imMedian, copyCount, offset, np.quantile, q = 0.9)\n",
    "    weights = [np.sin((i + 1.0 * offset / outputFrameCount) * np.pi /copyCount ) ** 2 for i in range(copyCount)]\n",
    "    print(weights)\n",
    "    im = sv.avgCopies(choice, copyCount, offset, np.average, weights = weights)\n",
    "    if transpose:\n",
    "        im = im.transpose(Image.ROTATE_270)\n",
    "    im.save(imFile)\n",
    "    \n",
    "# display(Image.fromarray(imMasked))"
   ]
  },
  {
   "cell_type": "code",
   "execution_count": null,
   "metadata": {
    "scrolled": true
   },
   "outputs": [],
   "source": [
    "importlib.reload(sv)\n",
    "sv.concatFrames('koski2.mp4')"
   ]
  },
  {
   "cell_type": "code",
   "execution_count": null,
   "metadata": {},
   "outputs": [],
   "source": [
    "import sys\n",
    "# C:\\Users\\jokemjaa\\Documents\\GitHub\\jupyter\\jedit\n",
    "sys.path.append(\"C:\\\\users\\\\jokemjaa\\\\Documents\\\\github\\\\\")\n",
    "import jupyter_cell_magics.jedit"
   ]
  },
  {
   "cell_type": "code",
   "execution_count": null,
   "metadata": {},
   "outputs": [],
   "source": [
    "%%jedit -w video_player.css -t video_player.css -t video_player.html -o temp.html\n",
    "<style>\n",
    "* {\n",
    "  box-sizing: border-box;\n",
    "}\n",
    "\n",
    "body {\n",
    "  margin: 0;\n",
    "  font-family: Arial;\n",
    "  font-size: 17px;\n",
    "}\n",
    "\n",
    "#myVideo {\n",
    "  position: fixed;\n",
    "//  left: 6%;\n",
    "//  top: 10%;\n",
    "//  min-width: 60%; \n",
    "  min-height: 100%;\n",
    "    width 2024px;\n",
    "}\n",
    "\n",
    ".content {\n",
    "  position: fixed;\n",
    "  bottom: 0;\n",
    "  background: rgba(0, 0, 0, 0.5);\n",
    "  color: #f1f1f1;\n",
    "  width: 80%;\n",
    "  padding: 20px;\n",
    "}\n",
    "\n",
    "#myBtn {\n",
    "  width: 200px;\n",
    "  font-size: 18px;\n",
    "  padding: 10px;\n",
    "  border: none;\n",
    "  background: #000;\n",
    "  color: #fff;\n",
    "  cursor: pointer;\n",
    "}\n",
    "\n",
    "#myBtn:hover {\n",
    "  background: #ddd;\n",
    "  color: black;\n",
    "}\n",
    "</style>\n"
   ]
  },
  {
   "cell_type": "code",
   "execution_count": null,
   "metadata": {},
   "outputs": [],
   "source": []
  },
  {
   "cell_type": "code",
   "execution_count": null,
   "metadata": {},
   "outputs": [],
   "source": [
    "%%jedit -w video_player.html -o temp.html\n",
    "{% include 'video_player.css' %}\n",
    "<video autoplay muted loop id=\"myVideo\">\n",
    "  <source src=\"c:/work/output/autumncolors.mp4\" type=\"video/mp4\">\n",
    "  Your browser does not support HTML5 video.\n",
    "</video>\n",
    "\n",
    "<div class=\"content\">\n",
    "  <h1>Ariel</h1>\n",
    "  <p>Maauimalan takana olevassa metsassa</p>\n",
    "  <button id=\"myBtn\" onclick=\"myFunction()\">Pause</button>\n",
    "    <p id = \"tiedot\"></p>\n",
    "<div class=\"slidecontainer\">\n",
    "  <input type=\"range\" min=\"1\" max=\"100\" value=\"50\" class=\"slider\" id=\"myRange\">\n",
    "  <p>Value: <span id=\"demo\"></span></p>\n",
    "</div>\n",
    "</div>\n",
    "\n",
    "<script>\n",
    "var slider = document.getElementById(\"myRange\");\n",
    "var output = document.getElementById(\"demo\");\n",
    "\n",
    "slider.oninput = function() {\n",
    "  output.innerHTML = this.value;\n",
    "    video.currentTime = video.duration * this.value / 100;\n",
    "}\n",
    "</script>\n",
    "\n",
    "<script>\n",
    "var video = document.getElementById(\"myVideo\");\n",
    "var btn = document.getElementById(\"myBtn\");\n",
    "var tiedot = document.getElementById(\"tiedot\");\n",
    "\n",
    "function myFunction() {\n",
    "  if (video.paused) {\n",
    "    video.play();\n",
    "    btn.innerHTML = \"Pause\";\n",
    "  } else {\n",
    "    video.pause();\n",
    "    btn.innerHTML = \"Play\";\n",
    "    tiedot.innerHTML = video.currentTime;\n",
    "  }\n",
    "}\n",
    "</script>\n"
   ]
  },
  {
   "cell_type": "code",
   "execution_count": null,
   "metadata": {},
   "outputs": [],
   "source": [
    "copyCount = 5\n",
    "offset = 0\n",
    "\n",
    "with sv.tempFolderImages(choice) as ims:\n",
    "    imageCount = int(len(ims) / copyCount)\n",
    "    print(f\"Image count {imageCount}\")\n",
    "    for i in range(copyCount):\n",
    "        display(ims[offset + i * imageCount][0])"
   ]
  },
  {
   "cell_type": "code",
   "execution_count": null,
   "metadata": {},
   "outputs": [],
   "source": [
    "choice = range(0, 640, 1)\n",
    "from PIL import Image\n",
    "with sv.tempFolderImages(choice) as ims:\n",
    "    ret = []\n",
    "    for ind, imRaw in enumerate(ims):\n",
    "        im = imRaw[0]#.transpose(Image.ROTATE_270)\n",
    "        ret.append(np.array(im)[ind])\n",
    "#         ret.append(np.array(im)[2 * ind + 1])\n",
    "Image.fromarray(np.array(ret))"
   ]
  },
  {
   "cell_type": "markdown",
   "metadata": {},
   "source": [
    "## Keskiarvokuvat\n",
    "\n",
    "Keskiarvokuvat tehdään Numpyn funktioilla. Muista `transpose`, jos kuva pitää kääntää."
   ]
  },
  {
   "cell_type": "code",
   "execution_count": null,
   "metadata": {},
   "outputs": [],
   "source": [
    "import numpy as np"
   ]
  },
  {
   "cell_type": "code",
   "execution_count": null,
   "metadata": {},
   "outputs": [],
   "source": [
    "# choice = range(200, 1800, 2)\n",
    "choice = range(100, 1000, 3)\n",
    "transpose = False\n",
    "tests = [(\"Kirkkaampi kuin 50 prosenttia pikseleistä\", np.quantile, {'q' : 0.5})\n",
    "         ,(\"Kirkkaampi kuin 90 prosenttia pikseleistä\", np.quantile, {'q' : 0.9})\n",
    "         ,(\"Pikselien keskiarvo\", np.average, {})\n",
    "         ,(\"Kirkkaampi kuin 10 prosenttia pikseleistä\", np.quantile, {'q' : 0.10})\n",
    "#          ,(\"Kirkkaampi kuin  0 prosenttia pikseleistä\", np.quantile, {'q' : 0.0})\n",
    "#          ,(\"Keskihajonta\", myStd, {})\n",
    "        ]\n",
    "\n",
    "sv.generateAggregates(pageName, tests, choice, transpose)\n"
   ]
  },
  {
   "cell_type": "code",
   "execution_count": null,
   "metadata": {},
   "outputs": [],
   "source": [
    "np.mean(npDiffAv)"
   ]
  },
  {
   "cell_type": "code",
   "execution_count": null,
   "metadata": {},
   "outputs": [],
   "source": [
    "np.mean(npDiff1)"
   ]
  },
  {
   "cell_type": "code",
   "execution_count": null,
   "metadata": {},
   "outputs": [],
   "source": [
    "f\"file:///C:/work/html/{pageName}/page.html\""
   ]
  },
  {
   "cell_type": "code",
   "execution_count": null,
   "metadata": {},
   "outputs": [],
   "source": [
    "%%html\n",
    "<a href = \"file:///C:/work/html/MVI_2126/page.html\">linkki<a/>"
   ]
  },
  {
   "cell_type": "code",
   "execution_count": null,
   "metadata": {},
   "outputs": [],
   "source": [
    "%%writefile c:/work/html/pageTemplate.html\n",
    "<!DOCTYPE html>\n",
    "<html>\n",
    "<body>\n",
    "\n",
    "<<<code>>>\n",
    "\n",
    "</body>\n",
    "</html>\n"
   ]
  },
  {
   "cell_type": "code",
   "execution_count": null,
   "metadata": {},
   "outputs": [],
   "source": [
    "Image.fromarray(np.array(np.round(out), dtype=np.uint8))"
   ]
  },
  {
   "cell_type": "code",
   "execution_count": null,
   "metadata": {},
   "outputs": [],
   "source": [
    "# imlist[-2]\n",
    "# out.filter(myFilter)\n",
    "Image.fromarray(out)"
   ]
  },
  {
   "cell_type": "code",
   "execution_count": null,
   "metadata": {},
   "outputs": [],
   "source": [
    "out.save(\"C:/Users/jokemjaa/OneDrive - Tieto Corporation/Notebooks/average_6.png\")"
   ]
  }
 ],
 "metadata": {
  "kernelspec": {
   "display_name": "Python 3",
   "language": "python",
   "name": "python3"
  },
  "language_info": {
   "codemirror_mode": {
    "name": "ipython",
    "version": 3
   },
   "file_extension": ".py",
   "mimetype": "text/x-python",
   "name": "python",
   "nbconvert_exporter": "python",
   "pygments_lexer": "ipython3",
   "version": "3.7.7"
  },
  "latex_envs": {
   "LaTeX_envs_menu_present": true,
   "autoclose": false,
   "autocomplete": true,
   "bibliofile": "biblio.bib",
   "cite_by": "apalike",
   "current_citInitial": 1,
   "eqLabelWithNumbers": true,
   "eqNumInitial": 1,
   "hotkeys": {
    "equation": "Ctrl-E",
    "itemize": "Ctrl-I"
   },
   "labels_anchors": false,
   "latex_user_defs": false,
   "report_style_numbering": false,
   "user_envs_cfg": false
  }
 },
 "nbformat": 4,
 "nbformat_minor": 2
}
