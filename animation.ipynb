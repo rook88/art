{
 "cells": [
  {
   "cell_type": "code",
   "execution_count": 3,
   "metadata": {},
   "outputs": [],
   "source": [
    "%alias make C:\\Users\\jokemjaa\\Downloads\\ffmpeg\\ffmpeg\\bin\\ffmpeg -r 24 -i c:\\temp\\animation\\im_%03d.png -y %l"
   ]
  },
  {
   "cell_type": "code",
   "execution_count": 12,
   "metadata": {},
   "outputs": [
    {
     "name": "stderr",
     "output_type": "stream",
     "text": [
      "ffmpeg version N-94167-ga514244319 Copyright (c) 2000-2019 the FFmpeg developers\n",
      "  built with gcc 9.1.1 (GCC) 20190621\n",
      "  configuration: --enable-gpl --enable-version3 --enable-sdl2 --enable-fontconfig --enable-gnutls --enable-iconv --enable-libass --enable-libdav1d --enable-libbluray --enable-libfreetype --enable-libmp3lame --enable-libopencore-amrnb --enable-libopencore-amrwb --enable-libopenjpeg --enable-libopus --enable-libshine --enable-libsnappy --enable-libsoxr --enable-libtheora --enable-libtwolame --enable-libvpx --enable-libwavpack --enable-libwebp --enable-libx264 --enable-libx265 --enable-libxml2 --enable-libzimg --enable-lzma --enable-zlib --enable-gmp --enable-libvidstab --enable-libvorbis --enable-libvo-amrwbenc --enable-libmysofa --enable-libspeex --enable-libxvid --enable-libaom --enable-libmfx --enable-amf --enable-ffnvcodec --enable-cuvid --enable-d3d11va --enable-nvenc --enable-nvdec --enable-dxva2 --enable-avisynth --enable-libopenmpt\n",
      "  libavutil      56. 30.100 / 56. 30.100\n",
      "  libavcodec     58. 53.101 / 58. 53.101\n",
      "  libavformat    58. 28.101 / 58. 28.101\n",
      "  libavdevice    58.  7.100 / 58.  7.100\n",
      "  libavfilter     7. 56.100 /  7. 56.100\n",
      "  libswscale      5.  4.101 /  5.  4.101\n",
      "  libswresample   3.  4.100 /  3.  4.100\n",
      "  libpostproc    55.  4.100 / 55.  4.100\n",
      "Input #0, image2, from 'c:\\temp\\animation\\im_%03d.png':\n",
      "  Duration: 00:00:04.00, start: 0.000000, bitrate: N/A\n",
      "    Stream #0:0: Video: png, gray(pc), 900x900, 25 fps, 25 tbr, 25 tbn, 25 tbc\n",
      "Stream mapping:\n",
      "  Stream #0:0 -> #0:0 (png (native) -> h264 (libx264))\n",
      "Press [q] to stop, [?] for help\n",
      "[libx264 @ 000001c2ec5035c0] using cpu capabilities: MMX2 SSE2Fast SSSE3 SSE4.2 AVX FMA3 BMI2 AVX2\n",
      "[libx264 @ 000001c2ec5035c0] profile Progressive High, level 3.1, 4:0:0, 8-bit\n",
      "[libx264 @ 000001c2ec5035c0] 264 - core 157 r2970 5493be8 - H.264/MPEG-4 AVC codec - Copyleft 2003-2019 - http://www.videolan.org/x264.html - options: cabac=1 ref=3 deblock=1:0:0 analyse=0x3:0x113 me=hex subme=7 psy=1 psy_rd=1.00:0.00 mixed_ref=1 me_range=16 chroma_me=0 trellis=1 8x8dct=1 cqm=0 deadzone=21,11 fast_pskip=1 chroma_qp_offset=-2 threads=12 lookahead_threads=2 sliced_threads=0 nr=0 decimate=1 interlaced=0 bluray_compat=0 constrained_intra=0 bframes=3 b_pyramid=2 b_adapt=1 b_bias=0 direct=1 weightb=1 open_gop=0 weightp=2 keyint=250 keyint_min=24 scenecut=40 intra_refresh=0 rc_lookahead=40 rc=crf mbtree=1 crf=23.0 qcomp=0.60 qpmin=0 qpmax=69 qpstep=4 ip_ratio=1.40 aq=1:1.00\n",
      "Output #0, mp4, to 'c:\\temp\\test4.mp4':\n",
      "  Metadata:\n",
      "    encoder         : Lavf58.28.101\n",
      "    Stream #0:0: Video: h264 (libx264) (avc1 / 0x31637661), gray, 900x900, q=-1--1, 24 fps, 12288 tbn, 24 tbc\n",
      "    Metadata:\n",
      "      encoder         : Lavc58.53.101 libx264\n",
      "    Side data:\n",
      "      cpb: bitrate max/min/avg: 0/0/0 buffer size: 0 vbv_delay: -1\n",
      "frame=   54 fps=0.0 q=0.0 size=       0kB time=00:00:00.00 bitrate=N/A speed=   0x    \n",
      "frame=   84 fps= 82 q=28.0 size=       0kB time=00:00:01.04 bitrate=   0.4kbits/s speed=1.02x    \n",
      "frame=  100 fps= 54 q=-1.0 Lsize=     434kB time=00:00:04.04 bitrate= 879.3kbits/s speed=2.17x    \n",
      "video:432kB audio:0kB subtitle:0kB other streams:0kB global headers:0kB muxing overhead: 0.413406%\n",
      "[libx264 @ 000001c2ec5035c0] frame I:1     Avg QP:24.20  size: 14517\n",
      "[libx264 @ 000001c2ec5035c0] frame P:58    Avg QP:24.51  size:  5059\n",
      "[libx264 @ 000001c2ec5035c0] frame B:41    Avg QP:31.89  size:  3263\n",
      "[libx264 @ 000001c2ec5035c0] consecutive B-frames: 34.0% 28.0% 18.0% 20.0%\n",
      "[libx264 @ 000001c2ec5035c0] mb I  I16..4: 13.8% 69.5% 16.7%\n",
      "[libx264 @ 000001c2ec5035c0] mb P  I16..4:  1.3%  3.6%  0.5%  P16..4: 16.2%  6.1%  2.9%  0.0%  0.0%    skip:69.4%\n",
      "[libx264 @ 000001c2ec5035c0] mb B  I16..4:  0.3%  0.5%  0.2%  B16..8: 26.8%  5.8%  1.4%  direct: 0.2%  skip:64.9%  L0:46.5% L1:47.3% BI: 6.1%\n",
      "[libx264 @ 000001c2ec5035c0] 8x8 transform intra:66.0% inter:47.3%\n",
      "[libx264 @ 000001c2ec5035c0] coded y intra: 8.5% inter: 3.0%\n",
      "[libx264 @ 000001c2ec5035c0] i16 v,h,dc,p: 77% 15%  8%  0%\n",
      "[libx264 @ 000001c2ec5035c0] i8 v,h,dc,ddl,ddr,vr,hd,vl,hu: 20%  5% 73%  1%  0%  0%  0%  0%  0%\n",
      "[libx264 @ 000001c2ec5035c0] i4 v,h,dc,ddl,ddr,vr,hd,vl,hu: 26% 14% 23% 11%  9%  6%  4%  5%  2%\n",
      "[libx264 @ 000001c2ec5035c0] i8c dc,h,v,p: 100%  0%  0%  0%\n",
      "[libx264 @ 000001c2ec5035c0] Weighted P-Frames: Y:1.7%\n",
      "[libx264 @ 000001c2ec5035c0] ref P L0: 37.4% 47.7% 11.0%  3.9%\n",
      "[libx264 @ 000001c2ec5035c0] ref B L0: 83.8% 14.3%  1.9%\n",
      "[libx264 @ 000001c2ec5035c0] ref B L1: 97.5%  2.5%\n",
      "[libx264 @ 000001c2ec5035c0] kb/s:848.13\n"
     ]
    }
   ],
   "source": [
    "make c:\\temp\\test4.mp4"
   ]
  },
  {
   "cell_type": "code",
   "execution_count": 9,
   "metadata": {},
   "outputs": [
    {
     "data": {
      "text/plain": [
       "True"
      ]
     },
     "execution_count": 9,
     "metadata": {},
     "output_type": "execute_result"
    }
   ],
   "source": [
    "import webbrowser\n",
    "webbrowser.open('file:///c:/temp/test.mp4')"
   ]
  }
 ],
 "metadata": {
  "kernelspec": {
   "display_name": "Python 3",
   "language": "python",
   "name": "python3"
  },
  "language_info": {
   "codemirror_mode": {
    "name": "ipython",
    "version": 3
   },
   "file_extension": ".py",
   "mimetype": "text/x-python",
   "name": "python",
   "nbconvert_exporter": "python",
   "pygments_lexer": "ipython3",
   "version": "3.7.7"
  }
 },
 "nbformat": 4,
 "nbformat_minor": 4
}
