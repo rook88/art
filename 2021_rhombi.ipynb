{
 "cells": [
  {
   "cell_type": "code",
   "execution_count": 3,
   "metadata": {},
   "outputs": [
    {
     "data": {
      "text/plain": [
       "2020.0"
      ]
     },
     "execution_count": 3,
     "metadata": {},
     "output_type": "execute_result"
    }
   ],
   "source": [
    "\n",
    "i = 0\n",
    "j = 1\n",
    "\n",
    "71 * 70 / 2 - 31 * 30 / 2"
   ]
  },
  {
   "cell_type": "code",
   "execution_count": 5,
   "metadata": {},
   "outputs": [],
   "source": [
    "def foo(i, j):\n",
    "    return int((j + 1) * j / 2 - (i + 1) * i / 2)"
   ]
  },
  {
   "cell_type": "code",
   "execution_count": 6,
   "metadata": {},
   "outputs": [
    {
     "data": {
      "text/plain": [
       "[(25, 68, 2021)]"
      ]
     },
     "execution_count": 6,
     "metadata": {},
     "output_type": "execute_result"
    }
   ],
   "source": [
    "[(i, j, foo(i, j)) for i in range(20, 70) for j in range(i, 100) if foo(i, j) == 2021]"
   ]
  },
  {
   "cell_type": "code",
   "execution_count": 8,
   "metadata": {},
   "outputs": [
    {
     "name": "stdout",
     "output_type": "stream",
     "text": [
      "2 3 3\n",
      "3 5 9\n",
      "5 8 21\n",
      "8 13 55\n",
      "13 21 140\n",
      "21 34 364\n",
      "34 55 945\n",
      "55 89 2465\n",
      "89 144 6435\n",
      "144 233 16821\n",
      "233 377 43992\n"
     ]
    }
   ],
   "source": [
    "a = 1\n",
    "b = 2\n",
    "while b < 300:\n",
    "    a, b = b, a + b\n",
    "    print(a, b, foo(a, b))"
   ]
  }
 ],
 "metadata": {
  "kernelspec": {
   "display_name": "Python 3",
   "language": "python",
   "name": "python3"
  },
  "language_info": {
   "codemirror_mode": {
    "name": "ipython",
    "version": 3
   },
   "file_extension": ".py",
   "mimetype": "text/x-python",
   "name": "python",
   "nbconvert_exporter": "python",
   "pygments_lexer": "ipython3",
   "version": "3.7.7"
  }
 },
 "nbformat": 4,
 "nbformat_minor": 4
}
