{
 "cells": [
  {
   "cell_type": "code",
   "execution_count": null,
   "metadata": {},
   "outputs": [],
   "source": [
    "def imClustered(im, i):\n",
    "    ar = np.array(im)\n",
    "    ret = Image.fromarray(arClustered(ar, i))\n",
    "    return ret\n",
    "\n",
    "def arClustered(ar, i):\n",
    "    shape = ar.shape\n",
    "    colorData = ar.reshape((int(ar.size / 3), 3))\n",
    "    codebook, distortion = kmeans(colorData.astype('float'), i) \n",
    "    code2color = lambda x: codebook.astype('uint8')[x]\n",
    "    dataClustered, foo = vq(colorData, codebook)\n",
    "    bar = np.apply_along_axis(code2color, 0, dataClustered)\n",
    "    return bar.reshape(shape)"
   ]
  }
 ],
 "metadata": {
  "kernelspec": {
   "display_name": "Python 3",
   "language": "python",
   "name": "python3"
  },
  "language_info": {
   "codemirror_mode": {
    "name": "ipython",
    "version": 3
   },
   "file_extension": ".py",
   "mimetype": "text/x-python",
   "name": "python",
   "nbconvert_exporter": "python",
   "pygments_lexer": "ipython3",
   "version": "3.7.4"
  }
 },
 "nbformat": 4,
 "nbformat_minor": 2
}
